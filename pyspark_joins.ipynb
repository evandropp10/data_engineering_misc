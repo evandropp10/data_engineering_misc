{
 "cells": [
  {
   "cell_type": "code",
   "execution_count": 0,
   "metadata": {
    "application/vnd.databricks.v1+cell": {
     "cellMetadata": {
      "byteLimit": 2048000,
      "rowLimit": 10000
     },
     "inputWidgets": {},
     "nuid": "21fa272a-4ffe-4cb4-bae3-448059ea0c8e",
     "showTitle": false,
     "title": ""
    }
   },
   "outputs": [],
   "source": [
    "from pyspark.sql.types import StructType, StructField, StringType, IntegerType"
   ]
  },
  {
   "cell_type": "code",
   "execution_count": 0,
   "metadata": {
    "application/vnd.databricks.v1+cell": {
     "cellMetadata": {
      "byteLimit": 2048000,
      "rowLimit": 10000
     },
     "inputWidgets": {},
     "nuid": "0b30ebd7-8315-4693-a647-1eca42b4cbad",
     "showTitle": false,
     "title": ""
    }
   },
   "outputs": [],
   "source": [
    "countries_list = [\n",
    "    [1, 'USA'],\n",
    "    [2, 'BRA'],\n",
    "    [3, 'ITA'],\n",
    "    [4, 'FRA'],\n",
    "    [5, 'MEX'],\n",
    "    [6, 'ARG'],\n",
    "    [7, 'JPN'],\n",
    "    [8, 'AUS'],\n",
    "    [9, 'ENG']\n",
    "]\n",
    "\n",
    "countries_schema = StructType([ \\\n",
    "    StructField(\"country_id\", IntegerType(),True),\n",
    "    StructField(\"country_name\", StringType(), True)\n",
    "  ])\n",
    "\n",
    "countries_df = spark.createDataFrame(countries_list, schema=countries_schema)  "
   ]
  },
  {
   "cell_type": "code",
   "execution_count": 0,
   "metadata": {
    "application/vnd.databricks.v1+cell": {
     "cellMetadata": {
      "byteLimit": 2048000,
      "rowLimit": 10000
     },
     "inputWidgets": {},
     "nuid": "9df3a043-16a8-4fd4-96c1-9f70acdee8f2",
     "showTitle": false,
     "title": ""
    }
   },
   "outputs": [],
   "source": [
    "cities_list =[\n",
    "    [45, 1, 'Miami'],\n",
    "    [12, 10, 'Moscow'],\n",
    "    [23, 2, 'Sao Paulo'],\n",
    "    [98, 12, 'Cape Town'],\n",
    "    [21, 3, 'Rome'],\n",
    "    [34, 4, 'Paris'],\n",
    "    [77, 6, 'Buenos Aires'],\n",
    "    [31, 9, 'London'],\n",
    "    [56, 15, 'Dublin'],\n",
    "    [20, 1, 'Los Angeles']\n",
    "]\n",
    "\n",
    "cities_schema = StructType([ \\\n",
    "    StructField(\"city_id\", IntegerType(),True),\n",
    "    StructField(\"country_id\", IntegerType(),True),\n",
    "    StructField(\"city_name\", StringType(), True)\n",
    "  ])\n",
    "\n",
    "cities_df = spark.createDataFrame(cities_list, schema=cities_schema) "
   ]
  },
  {
   "cell_type": "code",
   "execution_count": 0,
   "metadata": {
    "application/vnd.databricks.v1+cell": {
     "cellMetadata": {
      "byteLimit": 2048000,
      "rowLimit": 10000
     },
     "inputWidgets": {},
     "nuid": "e5dd13a5-89b7-4ac1-b5f7-e297348cd4ea",
     "showTitle": false,
     "title": ""
    }
   },
   "outputs": [
    {
     "output_type": "display_data",
     "data": {
      "text/html": [
       "<style scoped>\n",
       "  .table-result-container {\n",
       "    max-height: 300px;\n",
       "    overflow: auto;\n",
       "  }\n",
       "  table, th, td {\n",
       "    border: 1px solid black;\n",
       "    border-collapse: collapse;\n",
       "  }\n",
       "  th, td {\n",
       "    padding: 5px;\n",
       "  }\n",
       "  th {\n",
       "    text-align: left;\n",
       "  }\n",
       "</style><div class='table-result-container'><table class='table-result'><thead style='background-color: white'><tr><th>country_id</th><th>country_name</th></tr></thead><tbody><tr><td>1</td><td>USA</td></tr><tr><td>2</td><td>BRA</td></tr><tr><td>3</td><td>ITA</td></tr><tr><td>4</td><td>FRA</td></tr><tr><td>5</td><td>MEX</td></tr><tr><td>6</td><td>ARG</td></tr><tr><td>7</td><td>JPN</td></tr><tr><td>8</td><td>AUS</td></tr><tr><td>9</td><td>ENG</td></tr></tbody></table></div>"
      ]
     },
     "metadata": {
      "application/vnd.databricks.v1+output": {
       "addedWidgets": {},
       "aggData": [],
       "aggError": "",
       "aggOverflow": false,
       "aggSchema": [],
       "aggSeriesLimitReached": false,
       "aggType": "",
       "arguments": {},
       "columnCustomDisplayInfos": {},
       "data": [
        [
         1,
         "USA"
        ],
        [
         2,
         "BRA"
        ],
        [
         3,
         "ITA"
        ],
        [
         4,
         "FRA"
        ],
        [
         5,
         "MEX"
        ],
        [
         6,
         "ARG"
        ],
        [
         7,
         "JPN"
        ],
        [
         8,
         "AUS"
        ],
        [
         9,
         "ENG"
        ]
       ],
       "datasetInfos": [],
       "dbfsResultPath": null,
       "isJsonSchema": true,
       "metadata": {},
       "overflow": false,
       "plotOptions": {
        "customPlotOptions": {},
        "displayType": "table",
        "pivotAggregation": null,
        "pivotColumns": null,
        "xColumns": null,
        "yColumns": null
       },
       "removedWidgets": [],
       "schema": [
        {
         "metadata": "{}",
         "name": "country_id",
         "type": "\"integer\""
        },
        {
         "metadata": "{}",
         "name": "country_name",
         "type": "\"string\""
        }
       ],
       "type": "table"
      }
     },
     "output_type": "display_data"
    }
   ],
   "source": [
    "countries_df.display()"
   ]
  },
  {
   "cell_type": "code",
   "execution_count": 0,
   "metadata": {
    "application/vnd.databricks.v1+cell": {
     "cellMetadata": {
      "byteLimit": 2048000,
      "rowLimit": 10000
     },
     "inputWidgets": {},
     "nuid": "e3dc628b-630b-4139-872e-bb113ef36d7e",
     "showTitle": false,
     "title": ""
    }
   },
   "outputs": [
    {
     "output_type": "display_data",
     "data": {
      "text/html": [
       "<style scoped>\n",
       "  .table-result-container {\n",
       "    max-height: 300px;\n",
       "    overflow: auto;\n",
       "  }\n",
       "  table, th, td {\n",
       "    border: 1px solid black;\n",
       "    border-collapse: collapse;\n",
       "  }\n",
       "  th, td {\n",
       "    padding: 5px;\n",
       "  }\n",
       "  th {\n",
       "    text-align: left;\n",
       "  }\n",
       "</style><div class='table-result-container'><table class='table-result'><thead style='background-color: white'><tr><th>city_id</th><th>country_id</th><th>city_name</th></tr></thead><tbody><tr><td>45</td><td>1</td><td>Miami</td></tr><tr><td>12</td><td>10</td><td>Moscow</td></tr><tr><td>23</td><td>2</td><td>Sao Paulo</td></tr><tr><td>98</td><td>12</td><td>Cape Town</td></tr><tr><td>21</td><td>3</td><td>Rome</td></tr><tr><td>34</td><td>4</td><td>Paris</td></tr><tr><td>77</td><td>6</td><td>Buenos Aires</td></tr><tr><td>31</td><td>9</td><td>London</td></tr><tr><td>56</td><td>15</td><td>Dublin</td></tr><tr><td>20</td><td>1</td><td>Los Angeles</td></tr></tbody></table></div>"
      ]
     },
     "metadata": {
      "application/vnd.databricks.v1+output": {
       "addedWidgets": {},
       "aggData": [],
       "aggError": "",
       "aggOverflow": false,
       "aggSchema": [],
       "aggSeriesLimitReached": false,
       "aggType": "",
       "arguments": {},
       "columnCustomDisplayInfos": {},
       "data": [
        [
         45,
         1,
         "Miami"
        ],
        [
         12,
         10,
         "Moscow"
        ],
        [
         23,
         2,
         "Sao Paulo"
        ],
        [
         98,
         12,
         "Cape Town"
        ],
        [
         21,
         3,
         "Rome"
        ],
        [
         34,
         4,
         "Paris"
        ],
        [
         77,
         6,
         "Buenos Aires"
        ],
        [
         31,
         9,
         "London"
        ],
        [
         56,
         15,
         "Dublin"
        ],
        [
         20,
         1,
         "Los Angeles"
        ]
       ],
       "datasetInfos": [],
       "dbfsResultPath": null,
       "isJsonSchema": true,
       "metadata": {},
       "overflow": false,
       "plotOptions": {
        "customPlotOptions": {},
        "displayType": "table",
        "pivotAggregation": null,
        "pivotColumns": null,
        "xColumns": null,
        "yColumns": null
       },
       "removedWidgets": [],
       "schema": [
        {
         "metadata": "{}",
         "name": "city_id",
         "type": "\"integer\""
        },
        {
         "metadata": "{}",
         "name": "country_id",
         "type": "\"integer\""
        },
        {
         "metadata": "{}",
         "name": "city_name",
         "type": "\"string\""
        }
       ],
       "type": "table"
      }
     },
     "output_type": "display_data"
    }
   ],
   "source": [
    "cities_df.display()"
   ]
  },
  {
   "cell_type": "markdown",
   "metadata": {
    "application/vnd.databricks.v1+cell": {
     "cellMetadata": {
      "byteLimit": 2048000,
      "rowLimit": 10000
     },
     "inputWidgets": {},
     "nuid": "6adbd13b-2e90-4ee0-83c2-64ba51d4c290",
     "showTitle": false,
     "title": ""
    }
   },
   "source": [
    "#PySpark Joins\n",
    "Documentation: https://spark.apache.org/docs/3.1.2/api/python/reference/api/pyspark.sql.DataFrame.join.html\n",
    "\n",
    "![Joins](https://i.stack.imgur.com/hMKKt.jpg)"
   ]
  },
  {
   "cell_type": "markdown",
   "metadata": {
    "application/vnd.databricks.v1+cell": {
     "cellMetadata": {
      "byteLimit": 2048000,
      "rowLimit": 10000
     },
     "inputWidgets": {},
     "nuid": "7af15eeb-f498-482f-95c7-4d35cdd241f8",
     "showTitle": false,
     "title": ""
    }
   },
   "source": [
    "###Inner Join\n"
   ]
  },
  {
   "cell_type": "code",
   "execution_count": 0,
   "metadata": {
    "application/vnd.databricks.v1+cell": {
     "cellMetadata": {
      "byteLimit": 2048000,
      "rowLimit": 10000
     },
     "inputWidgets": {},
     "nuid": "38cf58b8-e95d-43ac-9336-c308f6e29af5",
     "showTitle": false,
     "title": ""
    }
   },
   "outputs": [
    {
     "output_type": "display_data",
     "data": {
      "text/html": [
       "<style scoped>\n",
       "  .table-result-container {\n",
       "    max-height: 300px;\n",
       "    overflow: auto;\n",
       "  }\n",
       "  table, th, td {\n",
       "    border: 1px solid black;\n",
       "    border-collapse: collapse;\n",
       "  }\n",
       "  th, td {\n",
       "    padding: 5px;\n",
       "  }\n",
       "  th {\n",
       "    text-align: left;\n",
       "  }\n",
       "</style><div class='table-result-container'><table class='table-result'><thead style='background-color: white'><tr><th>city_id</th><th>country_id</th><th>city_name</th><th>country_id</th><th>country_name</th></tr></thead><tbody><tr><td>45</td><td>1</td><td>Miami</td><td>1</td><td>USA</td></tr><tr><td>20</td><td>1</td><td>Los Angeles</td><td>1</td><td>USA</td></tr><tr><td>23</td><td>2</td><td>Sao Paulo</td><td>2</td><td>BRA</td></tr><tr><td>21</td><td>3</td><td>Rome</td><td>3</td><td>ITA</td></tr><tr><td>34</td><td>4</td><td>Paris</td><td>4</td><td>FRA</td></tr><tr><td>77</td><td>6</td><td>Buenos Aires</td><td>6</td><td>ARG</td></tr><tr><td>31</td><td>9</td><td>London</td><td>9</td><td>ENG</td></tr></tbody></table></div>"
      ]
     },
     "metadata": {
      "application/vnd.databricks.v1+output": {
       "addedWidgets": {},
       "aggData": [],
       "aggError": "",
       "aggOverflow": false,
       "aggSchema": [],
       "aggSeriesLimitReached": false,
       "aggType": "",
       "arguments": {},
       "columnCustomDisplayInfos": {},
       "data": [
        [
         45,
         1,
         "Miami",
         1,
         "USA"
        ],
        [
         20,
         1,
         "Los Angeles",
         1,
         "USA"
        ],
        [
         23,
         2,
         "Sao Paulo",
         2,
         "BRA"
        ],
        [
         21,
         3,
         "Rome",
         3,
         "ITA"
        ],
        [
         34,
         4,
         "Paris",
         4,
         "FRA"
        ],
        [
         77,
         6,
         "Buenos Aires",
         6,
         "ARG"
        ],
        [
         31,
         9,
         "London",
         9,
         "ENG"
        ]
       ],
       "datasetInfos": [],
       "dbfsResultPath": null,
       "isJsonSchema": true,
       "metadata": {},
       "overflow": false,
       "plotOptions": {
        "customPlotOptions": {},
        "displayType": "table",
        "pivotAggregation": null,
        "pivotColumns": null,
        "xColumns": null,
        "yColumns": null
       },
       "removedWidgets": [],
       "schema": [
        {
         "metadata": "{}",
         "name": "city_id",
         "type": "\"integer\""
        },
        {
         "metadata": "{}",
         "name": "country_id",
         "type": "\"integer\""
        },
        {
         "metadata": "{}",
         "name": "city_name",
         "type": "\"string\""
        },
        {
         "metadata": "{}",
         "name": "country_id",
         "type": "\"integer\""
        },
        {
         "metadata": "{}",
         "name": "country_name",
         "type": "\"string\""
        }
       ],
       "type": "table"
      }
     },
     "output_type": "display_data"
    }
   ],
   "source": [
    "inner_df = cities_df.join(\n",
    "    countries_df,\n",
    "    cities_df.country_id == countries_df.country_id,\n",
    "    'inner'\n",
    ")\n",
    "\n",
    "inner_df.display()"
   ]
  },
  {
   "cell_type": "code",
   "execution_count": 0,
   "metadata": {
    "application/vnd.databricks.v1+cell": {
     "cellMetadata": {
      "byteLimit": 2048000,
      "rowLimit": 10000
     },
     "inputWidgets": {},
     "nuid": "c0a2ff15-2963-4f3e-a61b-b2a45382b785",
     "showTitle": false,
     "title": ""
    }
   },
   "outputs": [
    {
     "output_type": "display_data",
     "data": {
      "text/html": [
       "<style scoped>\n",
       "  .table-result-container {\n",
       "    max-height: 300px;\n",
       "    overflow: auto;\n",
       "  }\n",
       "  table, th, td {\n",
       "    border: 1px solid black;\n",
       "    border-collapse: collapse;\n",
       "  }\n",
       "  th, td {\n",
       "    padding: 5px;\n",
       "  }\n",
       "  th {\n",
       "    text-align: left;\n",
       "  }\n",
       "</style><div class='table-result-container'><table class='table-result'><thead style='background-color: white'><tr><th>city_id</th><th>country_id</th><th>city_name</th><th>country_id</th><th>country_name</th></tr></thead><tbody><tr><td>45</td><td>1</td><td>Miami</td><td>1</td><td>USA</td></tr><tr><td>20</td><td>1</td><td>Los Angeles</td><td>1</td><td>USA</td></tr><tr><td>23</td><td>2</td><td>Sao Paulo</td><td>2</td><td>BRA</td></tr><tr><td>21</td><td>3</td><td>Rome</td><td>3</td><td>ITA</td></tr><tr><td>34</td><td>4</td><td>Paris</td><td>4</td><td>FRA</td></tr><tr><td>77</td><td>6</td><td>Buenos Aires</td><td>6</td><td>ARG</td></tr><tr><td>31</td><td>9</td><td>London</td><td>9</td><td>ENG</td></tr></tbody></table></div>"
      ]
     },
     "metadata": {
      "application/vnd.databricks.v1+output": {
       "addedWidgets": {},
       "aggData": [],
       "aggError": "",
       "aggOverflow": false,
       "aggSchema": [],
       "aggSeriesLimitReached": false,
       "aggType": "",
       "arguments": {},
       "columnCustomDisplayInfos": {},
       "data": [
        [
         45,
         1,
         "Miami",
         1,
         "USA"
        ],
        [
         20,
         1,
         "Los Angeles",
         1,
         "USA"
        ],
        [
         23,
         2,
         "Sao Paulo",
         2,
         "BRA"
        ],
        [
         21,
         3,
         "Rome",
         3,
         "ITA"
        ],
        [
         34,
         4,
         "Paris",
         4,
         "FRA"
        ],
        [
         77,
         6,
         "Buenos Aires",
         6,
         "ARG"
        ],
        [
         31,
         9,
         "London",
         9,
         "ENG"
        ]
       ],
       "datasetInfos": [],
       "dbfsResultPath": null,
       "isJsonSchema": true,
       "metadata": {},
       "overflow": false,
       "plotOptions": {
        "customPlotOptions": {},
        "displayType": "table",
        "pivotAggregation": null,
        "pivotColumns": null,
        "xColumns": null,
        "yColumns": null
       },
       "removedWidgets": [],
       "schema": [
        {
         "metadata": "{}",
         "name": "city_id",
         "type": "\"integer\""
        },
        {
         "metadata": "{}",
         "name": "country_id",
         "type": "\"integer\""
        },
        {
         "metadata": "{}",
         "name": "city_name",
         "type": "\"string\""
        },
        {
         "metadata": "{}",
         "name": "country_id",
         "type": "\"integer\""
        },
        {
         "metadata": "{}",
         "name": "country_name",
         "type": "\"string\""
        }
       ],
       "type": "table"
      }
     },
     "output_type": "display_data"
    }
   ],
   "source": [
    "cross_df = cities_df.join(\n",
    "    countries_df,\n",
    "    cities_df.country_id == countries_df.country_id,\n",
    "    'cross'\n",
    ")\n",
    "\n",
    "cross_df.display()"
   ]
  },
  {
   "cell_type": "markdown",
   "metadata": {
    "application/vnd.databricks.v1+cell": {
     "cellMetadata": {},
     "inputWidgets": {},
     "nuid": "1d6df8ee-6376-4e3b-9635-2ab099ee3ac7",
     "showTitle": false,
     "title": ""
    }
   },
   "source": [
    "### Full Outer Join"
   ]
  },
  {
   "cell_type": "code",
   "execution_count": 0,
   "metadata": {
    "application/vnd.databricks.v1+cell": {
     "cellMetadata": {
      "byteLimit": 2048000,
      "rowLimit": 10000
     },
     "inputWidgets": {},
     "nuid": "7cc73a5a-49bd-4517-915f-e6f93160c975",
     "showTitle": false,
     "title": ""
    }
   },
   "outputs": [
    {
     "output_type": "display_data",
     "data": {
      "text/html": [
       "<style scoped>\n",
       "  .table-result-container {\n",
       "    max-height: 300px;\n",
       "    overflow: auto;\n",
       "  }\n",
       "  table, th, td {\n",
       "    border: 1px solid black;\n",
       "    border-collapse: collapse;\n",
       "  }\n",
       "  th, td {\n",
       "    padding: 5px;\n",
       "  }\n",
       "  th {\n",
       "    text-align: left;\n",
       "  }\n",
       "</style><div class='table-result-container'><table class='table-result'><thead style='background-color: white'><tr><th>city_id</th><th>country_id</th><th>city_name</th><th>country_id</th><th>country_name</th></tr></thead><tbody><tr><td>45</td><td>1</td><td>Miami</td><td>1</td><td>USA</td></tr><tr><td>20</td><td>1</td><td>Los Angeles</td><td>1</td><td>USA</td></tr><tr><td>23</td><td>2</td><td>Sao Paulo</td><td>2</td><td>BRA</td></tr><tr><td>21</td><td>3</td><td>Rome</td><td>3</td><td>ITA</td></tr><tr><td>34</td><td>4</td><td>Paris</td><td>4</td><td>FRA</td></tr><tr><td>null</td><td>null</td><td>null</td><td>5</td><td>MEX</td></tr><tr><td>77</td><td>6</td><td>Buenos Aires</td><td>6</td><td>ARG</td></tr><tr><td>null</td><td>null</td><td>null</td><td>7</td><td>JPN</td></tr><tr><td>null</td><td>null</td><td>null</td><td>8</td><td>AUS</td></tr><tr><td>31</td><td>9</td><td>London</td><td>9</td><td>ENG</td></tr><tr><td>12</td><td>10</td><td>Moscow</td><td>null</td><td>null</td></tr><tr><td>98</td><td>12</td><td>Cape Town</td><td>null</td><td>null</td></tr><tr><td>56</td><td>15</td><td>Dublin</td><td>null</td><td>null</td></tr></tbody></table></div>"
      ]
     },
     "metadata": {
      "application/vnd.databricks.v1+output": {
       "addedWidgets": {},
       "aggData": [],
       "aggError": "",
       "aggOverflow": false,
       "aggSchema": [],
       "aggSeriesLimitReached": false,
       "aggType": "",
       "arguments": {},
       "columnCustomDisplayInfos": {},
       "data": [
        [
         45,
         1,
         "Miami",
         1,
         "USA"
        ],
        [
         20,
         1,
         "Los Angeles",
         1,
         "USA"
        ],
        [
         23,
         2,
         "Sao Paulo",
         2,
         "BRA"
        ],
        [
         21,
         3,
         "Rome",
         3,
         "ITA"
        ],
        [
         34,
         4,
         "Paris",
         4,
         "FRA"
        ],
        [
         null,
         null,
         null,
         5,
         "MEX"
        ],
        [
         77,
         6,
         "Buenos Aires",
         6,
         "ARG"
        ],
        [
         null,
         null,
         null,
         7,
         "JPN"
        ],
        [
         null,
         null,
         null,
         8,
         "AUS"
        ],
        [
         31,
         9,
         "London",
         9,
         "ENG"
        ],
        [
         12,
         10,
         "Moscow",
         null,
         null
        ],
        [
         98,
         12,
         "Cape Town",
         null,
         null
        ],
        [
         56,
         15,
         "Dublin",
         null,
         null
        ]
       ],
       "datasetInfos": [],
       "dbfsResultPath": null,
       "isJsonSchema": true,
       "metadata": {},
       "overflow": false,
       "plotOptions": {
        "customPlotOptions": {},
        "displayType": "table",
        "pivotAggregation": null,
        "pivotColumns": null,
        "xColumns": null,
        "yColumns": null
       },
       "removedWidgets": [],
       "schema": [
        {
         "metadata": "{}",
         "name": "city_id",
         "type": "\"integer\""
        },
        {
         "metadata": "{}",
         "name": "country_id",
         "type": "\"integer\""
        },
        {
         "metadata": "{}",
         "name": "city_name",
         "type": "\"string\""
        },
        {
         "metadata": "{}",
         "name": "country_id",
         "type": "\"integer\""
        },
        {
         "metadata": "{}",
         "name": "country_name",
         "type": "\"string\""
        }
       ],
       "type": "table"
      }
     },
     "output_type": "display_data"
    }
   ],
   "source": [
    "outer_df = cities_df.join(\n",
    "    countries_df,\n",
    "    cities_df.country_id == countries_df.country_id,\n",
    "    'outer'\n",
    ")\n",
    "\n",
    "outer_df.display()"
   ]
  },
  {
   "cell_type": "code",
   "execution_count": 0,
   "metadata": {
    "application/vnd.databricks.v1+cell": {
     "cellMetadata": {
      "byteLimit": 2048000,
      "rowLimit": 10000
     },
     "inputWidgets": {},
     "nuid": "dee047dc-b692-4412-a7e3-07b1982879f9",
     "showTitle": false,
     "title": ""
    }
   },
   "outputs": [
    {
     "output_type": "display_data",
     "data": {
      "text/html": [
       "<style scoped>\n",
       "  .table-result-container {\n",
       "    max-height: 300px;\n",
       "    overflow: auto;\n",
       "  }\n",
       "  table, th, td {\n",
       "    border: 1px solid black;\n",
       "    border-collapse: collapse;\n",
       "  }\n",
       "  th, td {\n",
       "    padding: 5px;\n",
       "  }\n",
       "  th {\n",
       "    text-align: left;\n",
       "  }\n",
       "</style><div class='table-result-container'><table class='table-result'><thead style='background-color: white'><tr><th>city_id</th><th>country_id</th><th>city_name</th><th>country_id</th><th>country_name</th></tr></thead><tbody><tr><td>45</td><td>1</td><td>Miami</td><td>1</td><td>USA</td></tr><tr><td>20</td><td>1</td><td>Los Angeles</td><td>1</td><td>USA</td></tr><tr><td>23</td><td>2</td><td>Sao Paulo</td><td>2</td><td>BRA</td></tr><tr><td>21</td><td>3</td><td>Rome</td><td>3</td><td>ITA</td></tr><tr><td>34</td><td>4</td><td>Paris</td><td>4</td><td>FRA</td></tr><tr><td>null</td><td>null</td><td>null</td><td>5</td><td>MEX</td></tr><tr><td>77</td><td>6</td><td>Buenos Aires</td><td>6</td><td>ARG</td></tr><tr><td>null</td><td>null</td><td>null</td><td>7</td><td>JPN</td></tr><tr><td>null</td><td>null</td><td>null</td><td>8</td><td>AUS</td></tr><tr><td>31</td><td>9</td><td>London</td><td>9</td><td>ENG</td></tr><tr><td>12</td><td>10</td><td>Moscow</td><td>null</td><td>null</td></tr><tr><td>98</td><td>12</td><td>Cape Town</td><td>null</td><td>null</td></tr><tr><td>56</td><td>15</td><td>Dublin</td><td>null</td><td>null</td></tr></tbody></table></div>"
      ]
     },
     "metadata": {
      "application/vnd.databricks.v1+output": {
       "addedWidgets": {},
       "aggData": [],
       "aggError": "",
       "aggOverflow": false,
       "aggSchema": [],
       "aggSeriesLimitReached": false,
       "aggType": "",
       "arguments": {},
       "columnCustomDisplayInfos": {},
       "data": [
        [
         45,
         1,
         "Miami",
         1,
         "USA"
        ],
        [
         20,
         1,
         "Los Angeles",
         1,
         "USA"
        ],
        [
         23,
         2,
         "Sao Paulo",
         2,
         "BRA"
        ],
        [
         21,
         3,
         "Rome",
         3,
         "ITA"
        ],
        [
         34,
         4,
         "Paris",
         4,
         "FRA"
        ],
        [
         null,
         null,
         null,
         5,
         "MEX"
        ],
        [
         77,
         6,
         "Buenos Aires",
         6,
         "ARG"
        ],
        [
         null,
         null,
         null,
         7,
         "JPN"
        ],
        [
         null,
         null,
         null,
         8,
         "AUS"
        ],
        [
         31,
         9,
         "London",
         9,
         "ENG"
        ],
        [
         12,
         10,
         "Moscow",
         null,
         null
        ],
        [
         98,
         12,
         "Cape Town",
         null,
         null
        ],
        [
         56,
         15,
         "Dublin",
         null,
         null
        ]
       ],
       "datasetInfos": [],
       "dbfsResultPath": null,
       "isJsonSchema": true,
       "metadata": {},
       "overflow": false,
       "plotOptions": {
        "customPlotOptions": {},
        "displayType": "table",
        "pivotAggregation": null,
        "pivotColumns": null,
        "xColumns": null,
        "yColumns": null
       },
       "removedWidgets": [],
       "schema": [
        {
         "metadata": "{}",
         "name": "city_id",
         "type": "\"integer\""
        },
        {
         "metadata": "{}",
         "name": "country_id",
         "type": "\"integer\""
        },
        {
         "metadata": "{}",
         "name": "city_name",
         "type": "\"string\""
        },
        {
         "metadata": "{}",
         "name": "country_id",
         "type": "\"integer\""
        },
        {
         "metadata": "{}",
         "name": "country_name",
         "type": "\"string\""
        }
       ],
       "type": "table"
      }
     },
     "output_type": "display_data"
    }
   ],
   "source": [
    "full_df = cities_df.join(\n",
    "    countries_df,\n",
    "    cities_df.country_id == countries_df.country_id,\n",
    "    'full'\n",
    ")\n",
    "\n",
    "full_df.display()"
   ]
  },
  {
   "cell_type": "code",
   "execution_count": 0,
   "metadata": {
    "application/vnd.databricks.v1+cell": {
     "cellMetadata": {
      "byteLimit": 2048000,
      "rowLimit": 10000
     },
     "inputWidgets": {},
     "nuid": "0cb570cc-7273-4d57-8b72-1a07846e123d",
     "showTitle": false,
     "title": ""
    }
   },
   "outputs": [
    {
     "output_type": "display_data",
     "data": {
      "text/html": [
       "<style scoped>\n",
       "  .table-result-container {\n",
       "    max-height: 300px;\n",
       "    overflow: auto;\n",
       "  }\n",
       "  table, th, td {\n",
       "    border: 1px solid black;\n",
       "    border-collapse: collapse;\n",
       "  }\n",
       "  th, td {\n",
       "    padding: 5px;\n",
       "  }\n",
       "  th {\n",
       "    text-align: left;\n",
       "  }\n",
       "</style><div class='table-result-container'><table class='table-result'><thead style='background-color: white'><tr><th>city_id</th><th>country_id</th><th>city_name</th><th>country_id</th><th>country_name</th></tr></thead><tbody><tr><td>45</td><td>1</td><td>Miami</td><td>1</td><td>USA</td></tr><tr><td>20</td><td>1</td><td>Los Angeles</td><td>1</td><td>USA</td></tr><tr><td>23</td><td>2</td><td>Sao Paulo</td><td>2</td><td>BRA</td></tr><tr><td>21</td><td>3</td><td>Rome</td><td>3</td><td>ITA</td></tr><tr><td>34</td><td>4</td><td>Paris</td><td>4</td><td>FRA</td></tr><tr><td>null</td><td>null</td><td>null</td><td>5</td><td>MEX</td></tr><tr><td>77</td><td>6</td><td>Buenos Aires</td><td>6</td><td>ARG</td></tr><tr><td>null</td><td>null</td><td>null</td><td>7</td><td>JPN</td></tr><tr><td>null</td><td>null</td><td>null</td><td>8</td><td>AUS</td></tr><tr><td>31</td><td>9</td><td>London</td><td>9</td><td>ENG</td></tr><tr><td>12</td><td>10</td><td>Moscow</td><td>null</td><td>null</td></tr><tr><td>98</td><td>12</td><td>Cape Town</td><td>null</td><td>null</td></tr><tr><td>56</td><td>15</td><td>Dublin</td><td>null</td><td>null</td></tr></tbody></table></div>"
      ]
     },
     "metadata": {
      "application/vnd.databricks.v1+output": {
       "addedWidgets": {},
       "aggData": [],
       "aggError": "",
       "aggOverflow": false,
       "aggSchema": [],
       "aggSeriesLimitReached": false,
       "aggType": "",
       "arguments": {},
       "columnCustomDisplayInfos": {},
       "data": [
        [
         45,
         1,
         "Miami",
         1,
         "USA"
        ],
        [
         20,
         1,
         "Los Angeles",
         1,
         "USA"
        ],
        [
         23,
         2,
         "Sao Paulo",
         2,
         "BRA"
        ],
        [
         21,
         3,
         "Rome",
         3,
         "ITA"
        ],
        [
         34,
         4,
         "Paris",
         4,
         "FRA"
        ],
        [
         null,
         null,
         null,
         5,
         "MEX"
        ],
        [
         77,
         6,
         "Buenos Aires",
         6,
         "ARG"
        ],
        [
         null,
         null,
         null,
         7,
         "JPN"
        ],
        [
         null,
         null,
         null,
         8,
         "AUS"
        ],
        [
         31,
         9,
         "London",
         9,
         "ENG"
        ],
        [
         12,
         10,
         "Moscow",
         null,
         null
        ],
        [
         98,
         12,
         "Cape Town",
         null,
         null
        ],
        [
         56,
         15,
         "Dublin",
         null,
         null
        ]
       ],
       "datasetInfos": [],
       "dbfsResultPath": null,
       "isJsonSchema": true,
       "metadata": {},
       "overflow": false,
       "plotOptions": {
        "customPlotOptions": {},
        "displayType": "table",
        "pivotAggregation": null,
        "pivotColumns": null,
        "xColumns": null,
        "yColumns": null
       },
       "removedWidgets": [],
       "schema": [
        {
         "metadata": "{}",
         "name": "city_id",
         "type": "\"integer\""
        },
        {
         "metadata": "{}",
         "name": "country_id",
         "type": "\"integer\""
        },
        {
         "metadata": "{}",
         "name": "city_name",
         "type": "\"string\""
        },
        {
         "metadata": "{}",
         "name": "country_id",
         "type": "\"integer\""
        },
        {
         "metadata": "{}",
         "name": "country_name",
         "type": "\"string\""
        }
       ],
       "type": "table"
      }
     },
     "output_type": "display_data"
    }
   ],
   "source": [
    "full_outer_df = cities_df.join(\n",
    "    countries_df,\n",
    "    cities_df.country_id == countries_df.country_id,\n",
    "    'full_outer'\n",
    ")\n",
    "\n",
    "full_outer_df.display()"
   ]
  },
  {
   "cell_type": "markdown",
   "metadata": {
    "application/vnd.databricks.v1+cell": {
     "cellMetadata": {},
     "inputWidgets": {},
     "nuid": "40e03d66-b31f-4154-af8b-f768e1e4dc85",
     "showTitle": false,
     "title": ""
    }
   },
   "source": [
    "### Left Join"
   ]
  },
  {
   "cell_type": "code",
   "execution_count": 0,
   "metadata": {
    "application/vnd.databricks.v1+cell": {
     "cellMetadata": {
      "byteLimit": 2048000,
      "rowLimit": 10000
     },
     "inputWidgets": {},
     "nuid": "9d78c87f-42f5-4f14-95e1-74cf024f270b",
     "showTitle": false,
     "title": ""
    }
   },
   "outputs": [
    {
     "output_type": "display_data",
     "data": {
      "text/html": [
       "<style scoped>\n",
       "  .table-result-container {\n",
       "    max-height: 300px;\n",
       "    overflow: auto;\n",
       "  }\n",
       "  table, th, td {\n",
       "    border: 1px solid black;\n",
       "    border-collapse: collapse;\n",
       "  }\n",
       "  th, td {\n",
       "    padding: 5px;\n",
       "  }\n",
       "  th {\n",
       "    text-align: left;\n",
       "  }\n",
       "</style><div class='table-result-container'><table class='table-result'><thead style='background-color: white'><tr><th>city_id</th><th>country_id</th><th>city_name</th><th>country_id</th><th>country_name</th></tr></thead><tbody><tr><td>45</td><td>1</td><td>Miami</td><td>1</td><td>USA</td></tr><tr><td>12</td><td>10</td><td>Moscow</td><td>null</td><td>null</td></tr><tr><td>23</td><td>2</td><td>Sao Paulo</td><td>2</td><td>BRA</td></tr><tr><td>98</td><td>12</td><td>Cape Town</td><td>null</td><td>null</td></tr><tr><td>21</td><td>3</td><td>Rome</td><td>3</td><td>ITA</td></tr><tr><td>34</td><td>4</td><td>Paris</td><td>4</td><td>FRA</td></tr><tr><td>77</td><td>6</td><td>Buenos Aires</td><td>6</td><td>ARG</td></tr><tr><td>31</td><td>9</td><td>London</td><td>9</td><td>ENG</td></tr><tr><td>20</td><td>1</td><td>Los Angeles</td><td>1</td><td>USA</td></tr><tr><td>56</td><td>15</td><td>Dublin</td><td>null</td><td>null</td></tr></tbody></table></div>"
      ]
     },
     "metadata": {
      "application/vnd.databricks.v1+output": {
       "addedWidgets": {},
       "aggData": [],
       "aggError": "",
       "aggOverflow": false,
       "aggSchema": [],
       "aggSeriesLimitReached": false,
       "aggType": "",
       "arguments": {},
       "columnCustomDisplayInfos": {},
       "data": [
        [
         45,
         1,
         "Miami",
         1,
         "USA"
        ],
        [
         12,
         10,
         "Moscow",
         null,
         null
        ],
        [
         23,
         2,
         "Sao Paulo",
         2,
         "BRA"
        ],
        [
         98,
         12,
         "Cape Town",
         null,
         null
        ],
        [
         21,
         3,
         "Rome",
         3,
         "ITA"
        ],
        [
         34,
         4,
         "Paris",
         4,
         "FRA"
        ],
        [
         77,
         6,
         "Buenos Aires",
         6,
         "ARG"
        ],
        [
         31,
         9,
         "London",
         9,
         "ENG"
        ],
        [
         20,
         1,
         "Los Angeles",
         1,
         "USA"
        ],
        [
         56,
         15,
         "Dublin",
         null,
         null
        ]
       ],
       "datasetInfos": [],
       "dbfsResultPath": null,
       "isJsonSchema": true,
       "metadata": {},
       "overflow": false,
       "plotOptions": {
        "customPlotOptions": {},
        "displayType": "table",
        "pivotAggregation": null,
        "pivotColumns": null,
        "xColumns": null,
        "yColumns": null
       },
       "removedWidgets": [],
       "schema": [
        {
         "metadata": "{}",
         "name": "city_id",
         "type": "\"integer\""
        },
        {
         "metadata": "{}",
         "name": "country_id",
         "type": "\"integer\""
        },
        {
         "metadata": "{}",
         "name": "city_name",
         "type": "\"string\""
        },
        {
         "metadata": "{}",
         "name": "country_id",
         "type": "\"integer\""
        },
        {
         "metadata": "{}",
         "name": "country_name",
         "type": "\"string\""
        }
       ],
       "type": "table"
      }
     },
     "output_type": "display_data"
    }
   ],
   "source": [
    "left_df = cities_df.join(\n",
    "    countries_df,\n",
    "    cities_df.country_id == countries_df.country_id,\n",
    "    'left'\n",
    ")\n",
    "\n",
    "left_df.display()"
   ]
  },
  {
   "cell_type": "code",
   "execution_count": 0,
   "metadata": {
    "application/vnd.databricks.v1+cell": {
     "cellMetadata": {
      "byteLimit": 2048000,
      "rowLimit": 10000
     },
     "inputWidgets": {},
     "nuid": "229c06f1-d3e3-4658-a506-da5d6a23822d",
     "showTitle": false,
     "title": ""
    }
   },
   "outputs": [
    {
     "output_type": "display_data",
     "data": {
      "text/html": [
       "<style scoped>\n",
       "  .table-result-container {\n",
       "    max-height: 300px;\n",
       "    overflow: auto;\n",
       "  }\n",
       "  table, th, td {\n",
       "    border: 1px solid black;\n",
       "    border-collapse: collapse;\n",
       "  }\n",
       "  th, td {\n",
       "    padding: 5px;\n",
       "  }\n",
       "  th {\n",
       "    text-align: left;\n",
       "  }\n",
       "</style><div class='table-result-container'><table class='table-result'><thead style='background-color: white'><tr><th>city_id</th><th>country_id</th><th>city_name</th><th>country_id</th><th>country_name</th></tr></thead><tbody><tr><td>45</td><td>1</td><td>Miami</td><td>1</td><td>USA</td></tr><tr><td>12</td><td>10</td><td>Moscow</td><td>null</td><td>null</td></tr><tr><td>23</td><td>2</td><td>Sao Paulo</td><td>2</td><td>BRA</td></tr><tr><td>98</td><td>12</td><td>Cape Town</td><td>null</td><td>null</td></tr><tr><td>21</td><td>3</td><td>Rome</td><td>3</td><td>ITA</td></tr><tr><td>34</td><td>4</td><td>Paris</td><td>4</td><td>FRA</td></tr><tr><td>77</td><td>6</td><td>Buenos Aires</td><td>6</td><td>ARG</td></tr><tr><td>31</td><td>9</td><td>London</td><td>9</td><td>ENG</td></tr><tr><td>56</td><td>15</td><td>Dublin</td><td>null</td><td>null</td></tr><tr><td>20</td><td>1</td><td>Los Angeles</td><td>1</td><td>USA</td></tr></tbody></table></div>"
      ]
     },
     "metadata": {
      "application/vnd.databricks.v1+output": {
       "addedWidgets": {},
       "aggData": [],
       "aggError": "",
       "aggOverflow": false,
       "aggSchema": [],
       "aggSeriesLimitReached": false,
       "aggType": "",
       "arguments": {},
       "columnCustomDisplayInfos": {},
       "data": [
        [
         45,
         1,
         "Miami",
         1,
         "USA"
        ],
        [
         12,
         10,
         "Moscow",
         null,
         null
        ],
        [
         23,
         2,
         "Sao Paulo",
         2,
         "BRA"
        ],
        [
         98,
         12,
         "Cape Town",
         null,
         null
        ],
        [
         21,
         3,
         "Rome",
         3,
         "ITA"
        ],
        [
         34,
         4,
         "Paris",
         4,
         "FRA"
        ],
        [
         77,
         6,
         "Buenos Aires",
         6,
         "ARG"
        ],
        [
         31,
         9,
         "London",
         9,
         "ENG"
        ],
        [
         56,
         15,
         "Dublin",
         null,
         null
        ],
        [
         20,
         1,
         "Los Angeles",
         1,
         "USA"
        ]
       ],
       "datasetInfos": [],
       "dbfsResultPath": null,
       "isJsonSchema": true,
       "metadata": {},
       "overflow": false,
       "plotOptions": {
        "customPlotOptions": {},
        "displayType": "table",
        "pivotAggregation": null,
        "pivotColumns": null,
        "xColumns": null,
        "yColumns": null
       },
       "removedWidgets": [],
       "schema": [
        {
         "metadata": "{}",
         "name": "city_id",
         "type": "\"integer\""
        },
        {
         "metadata": "{}",
         "name": "country_id",
         "type": "\"integer\""
        },
        {
         "metadata": "{}",
         "name": "city_name",
         "type": "\"string\""
        },
        {
         "metadata": "{}",
         "name": "country_id",
         "type": "\"integer\""
        },
        {
         "metadata": "{}",
         "name": "country_name",
         "type": "\"string\""
        }
       ],
       "type": "table"
      }
     },
     "output_type": "display_data"
    }
   ],
   "source": [
    "left_outer_df = cities_df.join(\n",
    "    countries_df,\n",
    "    cities_df.country_id == countries_df.country_id,\n",
    "    'left_outer'\n",
    ")\n",
    "\n",
    "left_outer_df.display()"
   ]
  },
  {
   "cell_type": "markdown",
   "metadata": {
    "application/vnd.databricks.v1+cell": {
     "cellMetadata": {},
     "inputWidgets": {},
     "nuid": "7440d818-6683-4fa5-bb19-3079a4f34159",
     "showTitle": false,
     "title": ""
    }
   },
   "source": [
    "###Right Join"
   ]
  },
  {
   "cell_type": "code",
   "execution_count": 0,
   "metadata": {
    "application/vnd.databricks.v1+cell": {
     "cellMetadata": {
      "byteLimit": 2048000,
      "rowLimit": 10000
     },
     "inputWidgets": {},
     "nuid": "2295d84c-beb2-454f-be63-63fa6983b6b8",
     "showTitle": false,
     "title": ""
    }
   },
   "outputs": [
    {
     "output_type": "display_data",
     "data": {
      "text/html": [
       "<style scoped>\n",
       "  .table-result-container {\n",
       "    max-height: 300px;\n",
       "    overflow: auto;\n",
       "  }\n",
       "  table, th, td {\n",
       "    border: 1px solid black;\n",
       "    border-collapse: collapse;\n",
       "  }\n",
       "  th, td {\n",
       "    padding: 5px;\n",
       "  }\n",
       "  th {\n",
       "    text-align: left;\n",
       "  }\n",
       "</style><div class='table-result-container'><table class='table-result'><thead style='background-color: white'><tr><th>city_id</th><th>country_id</th><th>city_name</th><th>country_id</th><th>country_name</th></tr></thead><tbody><tr><td>20</td><td>1</td><td>Los Angeles</td><td>1</td><td>USA</td></tr><tr><td>45</td><td>1</td><td>Miami</td><td>1</td><td>USA</td></tr><tr><td>23</td><td>2</td><td>Sao Paulo</td><td>2</td><td>BRA</td></tr><tr><td>21</td><td>3</td><td>Rome</td><td>3</td><td>ITA</td></tr><tr><td>34</td><td>4</td><td>Paris</td><td>4</td><td>FRA</td></tr><tr><td>null</td><td>null</td><td>null</td><td>5</td><td>MEX</td></tr><tr><td>77</td><td>6</td><td>Buenos Aires</td><td>6</td><td>ARG</td></tr><tr><td>null</td><td>null</td><td>null</td><td>7</td><td>JPN</td></tr><tr><td>31</td><td>9</td><td>London</td><td>9</td><td>ENG</td></tr><tr><td>null</td><td>null</td><td>null</td><td>8</td><td>AUS</td></tr></tbody></table></div>"
      ]
     },
     "metadata": {
      "application/vnd.databricks.v1+output": {
       "addedWidgets": {},
       "aggData": [],
       "aggError": "",
       "aggOverflow": false,
       "aggSchema": [],
       "aggSeriesLimitReached": false,
       "aggType": "",
       "arguments": {},
       "columnCustomDisplayInfos": {},
       "data": [
        [
         20,
         1,
         "Los Angeles",
         1,
         "USA"
        ],
        [
         45,
         1,
         "Miami",
         1,
         "USA"
        ],
        [
         23,
         2,
         "Sao Paulo",
         2,
         "BRA"
        ],
        [
         21,
         3,
         "Rome",
         3,
         "ITA"
        ],
        [
         34,
         4,
         "Paris",
         4,
         "FRA"
        ],
        [
         null,
         null,
         null,
         5,
         "MEX"
        ],
        [
         77,
         6,
         "Buenos Aires",
         6,
         "ARG"
        ],
        [
         null,
         null,
         null,
         7,
         "JPN"
        ],
        [
         31,
         9,
         "London",
         9,
         "ENG"
        ],
        [
         null,
         null,
         null,
         8,
         "AUS"
        ]
       ],
       "datasetInfos": [],
       "dbfsResultPath": null,
       "isJsonSchema": true,
       "metadata": {},
       "overflow": false,
       "plotOptions": {
        "customPlotOptions": {},
        "displayType": "table",
        "pivotAggregation": null,
        "pivotColumns": null,
        "xColumns": null,
        "yColumns": null
       },
       "removedWidgets": [],
       "schema": [
        {
         "metadata": "{}",
         "name": "city_id",
         "type": "\"integer\""
        },
        {
         "metadata": "{}",
         "name": "country_id",
         "type": "\"integer\""
        },
        {
         "metadata": "{}",
         "name": "city_name",
         "type": "\"string\""
        },
        {
         "metadata": "{}",
         "name": "country_id",
         "type": "\"integer\""
        },
        {
         "metadata": "{}",
         "name": "country_name",
         "type": "\"string\""
        }
       ],
       "type": "table"
      }
     },
     "output_type": "display_data"
    }
   ],
   "source": [
    "right_df = cities_df.join(\n",
    "    countries_df,\n",
    "    cities_df.country_id == countries_df.country_id,\n",
    "    'right'\n",
    ")\n",
    "\n",
    "right_df.display()"
   ]
  },
  {
   "cell_type": "code",
   "execution_count": 0,
   "metadata": {
    "application/vnd.databricks.v1+cell": {
     "cellMetadata": {
      "byteLimit": 2048000,
      "rowLimit": 10000
     },
     "inputWidgets": {},
     "nuid": "c1e3e785-8070-4fbe-b408-4a1d06d6934e",
     "showTitle": false,
     "title": ""
    }
   },
   "outputs": [
    {
     "output_type": "display_data",
     "data": {
      "text/html": [
       "<style scoped>\n",
       "  .table-result-container {\n",
       "    max-height: 300px;\n",
       "    overflow: auto;\n",
       "  }\n",
       "  table, th, td {\n",
       "    border: 1px solid black;\n",
       "    border-collapse: collapse;\n",
       "  }\n",
       "  th, td {\n",
       "    padding: 5px;\n",
       "  }\n",
       "  th {\n",
       "    text-align: left;\n",
       "  }\n",
       "</style><div class='table-result-container'><table class='table-result'><thead style='background-color: white'><tr><th>city_id</th><th>country_id</th><th>city_name</th><th>country_id</th><th>country_name</th></tr></thead><tbody><tr><td>20</td><td>1</td><td>Los Angeles</td><td>1</td><td>USA</td></tr><tr><td>45</td><td>1</td><td>Miami</td><td>1</td><td>USA</td></tr><tr><td>23</td><td>2</td><td>Sao Paulo</td><td>2</td><td>BRA</td></tr><tr><td>21</td><td>3</td><td>Rome</td><td>3</td><td>ITA</td></tr><tr><td>34</td><td>4</td><td>Paris</td><td>4</td><td>FRA</td></tr><tr><td>null</td><td>null</td><td>null</td><td>5</td><td>MEX</td></tr><tr><td>77</td><td>6</td><td>Buenos Aires</td><td>6</td><td>ARG</td></tr><tr><td>null</td><td>null</td><td>null</td><td>7</td><td>JPN</td></tr><tr><td>null</td><td>null</td><td>null</td><td>8</td><td>AUS</td></tr><tr><td>31</td><td>9</td><td>London</td><td>9</td><td>ENG</td></tr></tbody></table></div>"
      ]
     },
     "metadata": {
      "application/vnd.databricks.v1+output": {
       "addedWidgets": {},
       "aggData": [],
       "aggError": "",
       "aggOverflow": false,
       "aggSchema": [],
       "aggSeriesLimitReached": false,
       "aggType": "",
       "arguments": {},
       "columnCustomDisplayInfos": {},
       "data": [
        [
         20,
         1,
         "Los Angeles",
         1,
         "USA"
        ],
        [
         45,
         1,
         "Miami",
         1,
         "USA"
        ],
        [
         23,
         2,
         "Sao Paulo",
         2,
         "BRA"
        ],
        [
         21,
         3,
         "Rome",
         3,
         "ITA"
        ],
        [
         34,
         4,
         "Paris",
         4,
         "FRA"
        ],
        [
         null,
         null,
         null,
         5,
         "MEX"
        ],
        [
         77,
         6,
         "Buenos Aires",
         6,
         "ARG"
        ],
        [
         null,
         null,
         null,
         7,
         "JPN"
        ],
        [
         null,
         null,
         null,
         8,
         "AUS"
        ],
        [
         31,
         9,
         "London",
         9,
         "ENG"
        ]
       ],
       "datasetInfos": [],
       "dbfsResultPath": null,
       "isJsonSchema": true,
       "metadata": {},
       "overflow": false,
       "plotOptions": {
        "customPlotOptions": {},
        "displayType": "table",
        "pivotAggregation": null,
        "pivotColumns": null,
        "xColumns": null,
        "yColumns": null
       },
       "removedWidgets": [],
       "schema": [
        {
         "metadata": "{}",
         "name": "city_id",
         "type": "\"integer\""
        },
        {
         "metadata": "{}",
         "name": "country_id",
         "type": "\"integer\""
        },
        {
         "metadata": "{}",
         "name": "city_name",
         "type": "\"string\""
        },
        {
         "metadata": "{}",
         "name": "country_id",
         "type": "\"integer\""
        },
        {
         "metadata": "{}",
         "name": "country_name",
         "type": "\"string\""
        }
       ],
       "type": "table"
      }
     },
     "output_type": "display_data"
    }
   ],
   "source": [
    "right_outer_df = cities_df.join(\n",
    "    countries_df,\n",
    "    cities_df.country_id == countries_df.country_id,\n",
    "    'right_outer'\n",
    ")\n",
    "\n",
    "right_outer_df.display()"
   ]
  },
  {
   "cell_type": "markdown",
   "metadata": {
    "application/vnd.databricks.v1+cell": {
     "cellMetadata": {},
     "inputWidgets": {},
     "nuid": "e20567cc-0f3d-4126-b30f-f67d9a2861c6",
     "showTitle": false,
     "title": ""
    }
   },
   "source": [
    "###Semi Join"
   ]
  },
  {
   "cell_type": "code",
   "execution_count": 0,
   "metadata": {
    "application/vnd.databricks.v1+cell": {
     "cellMetadata": {
      "byteLimit": 2048000,
      "rowLimit": 10000
     },
     "inputWidgets": {},
     "nuid": "8b6e5ce4-33cf-4d97-b968-5a91dac8b9cc",
     "showTitle": false,
     "title": ""
    }
   },
   "outputs": [
    {
     "output_type": "display_data",
     "data": {
      "text/html": [
       "<style scoped>\n",
       "  .table-result-container {\n",
       "    max-height: 300px;\n",
       "    overflow: auto;\n",
       "  }\n",
       "  table, th, td {\n",
       "    border: 1px solid black;\n",
       "    border-collapse: collapse;\n",
       "  }\n",
       "  th, td {\n",
       "    padding: 5px;\n",
       "  }\n",
       "  th {\n",
       "    text-align: left;\n",
       "  }\n",
       "</style><div class='table-result-container'><table class='table-result'><thead style='background-color: white'><tr><th>city_id</th><th>country_id</th><th>city_name</th></tr></thead><tbody><tr><td>45</td><td>1</td><td>Miami</td></tr><tr><td>20</td><td>1</td><td>Los Angeles</td></tr><tr><td>23</td><td>2</td><td>Sao Paulo</td></tr><tr><td>21</td><td>3</td><td>Rome</td></tr><tr><td>34</td><td>4</td><td>Paris</td></tr><tr><td>77</td><td>6</td><td>Buenos Aires</td></tr><tr><td>31</td><td>9</td><td>London</td></tr></tbody></table></div>"
      ]
     },
     "metadata": {
      "application/vnd.databricks.v1+output": {
       "addedWidgets": {},
       "aggData": [],
       "aggError": "",
       "aggOverflow": false,
       "aggSchema": [],
       "aggSeriesLimitReached": false,
       "aggType": "",
       "arguments": {},
       "columnCustomDisplayInfos": {},
       "data": [
        [
         45,
         1,
         "Miami"
        ],
        [
         20,
         1,
         "Los Angeles"
        ],
        [
         23,
         2,
         "Sao Paulo"
        ],
        [
         21,
         3,
         "Rome"
        ],
        [
         34,
         4,
         "Paris"
        ],
        [
         77,
         6,
         "Buenos Aires"
        ],
        [
         31,
         9,
         "London"
        ]
       ],
       "datasetInfos": [],
       "dbfsResultPath": null,
       "isJsonSchema": true,
       "metadata": {},
       "overflow": false,
       "plotOptions": {
        "customPlotOptions": {},
        "displayType": "table",
        "pivotAggregation": null,
        "pivotColumns": null,
        "xColumns": null,
        "yColumns": null
       },
       "removedWidgets": [],
       "schema": [
        {
         "metadata": "{}",
         "name": "city_id",
         "type": "\"integer\""
        },
        {
         "metadata": "{}",
         "name": "country_id",
         "type": "\"integer\""
        },
        {
         "metadata": "{}",
         "name": "city_name",
         "type": "\"string\""
        }
       ],
       "type": "table"
      }
     },
     "output_type": "display_data"
    }
   ],
   "source": [
    "semi_df = cities_df.join(\n",
    "    countries_df,\n",
    "    cities_df.country_id == countries_df.country_id,\n",
    "    'semi'\n",
    ")\n",
    "\n",
    "semi_df.display()"
   ]
  },
  {
   "cell_type": "code",
   "execution_count": 0,
   "metadata": {
    "application/vnd.databricks.v1+cell": {
     "cellMetadata": {
      "byteLimit": 2048000,
      "rowLimit": 10000
     },
     "inputWidgets": {},
     "nuid": "af2e2b4e-dc9e-4d33-af67-64ec9c970815",
     "showTitle": false,
     "title": ""
    }
   },
   "outputs": [
    {
     "output_type": "display_data",
     "data": {
      "text/html": [
       "<style scoped>\n",
       "  .table-result-container {\n",
       "    max-height: 300px;\n",
       "    overflow: auto;\n",
       "  }\n",
       "  table, th, td {\n",
       "    border: 1px solid black;\n",
       "    border-collapse: collapse;\n",
       "  }\n",
       "  th, td {\n",
       "    padding: 5px;\n",
       "  }\n",
       "  th {\n",
       "    text-align: left;\n",
       "  }\n",
       "</style><div class='table-result-container'><table class='table-result'><thead style='background-color: white'><tr><th>city_id</th><th>country_id</th><th>city_name</th></tr></thead><tbody><tr><td>45</td><td>1</td><td>Miami</td></tr><tr><td>20</td><td>1</td><td>Los Angeles</td></tr><tr><td>23</td><td>2</td><td>Sao Paulo</td></tr><tr><td>21</td><td>3</td><td>Rome</td></tr><tr><td>34</td><td>4</td><td>Paris</td></tr><tr><td>77</td><td>6</td><td>Buenos Aires</td></tr><tr><td>31</td><td>9</td><td>London</td></tr></tbody></table></div>"
      ]
     },
     "metadata": {
      "application/vnd.databricks.v1+output": {
       "addedWidgets": {},
       "aggData": [],
       "aggError": "",
       "aggOverflow": false,
       "aggSchema": [],
       "aggSeriesLimitReached": false,
       "aggType": "",
       "arguments": {},
       "columnCustomDisplayInfos": {},
       "data": [
        [
         45,
         1,
         "Miami"
        ],
        [
         20,
         1,
         "Los Angeles"
        ],
        [
         23,
         2,
         "Sao Paulo"
        ],
        [
         21,
         3,
         "Rome"
        ],
        [
         34,
         4,
         "Paris"
        ],
        [
         77,
         6,
         "Buenos Aires"
        ],
        [
         31,
         9,
         "London"
        ]
       ],
       "datasetInfos": [],
       "dbfsResultPath": null,
       "isJsonSchema": true,
       "metadata": {},
       "overflow": false,
       "plotOptions": {
        "customPlotOptions": {},
        "displayType": "table",
        "pivotAggregation": null,
        "pivotColumns": null,
        "xColumns": null,
        "yColumns": null
       },
       "removedWidgets": [],
       "schema": [
        {
         "metadata": "{}",
         "name": "city_id",
         "type": "\"integer\""
        },
        {
         "metadata": "{}",
         "name": "country_id",
         "type": "\"integer\""
        },
        {
         "metadata": "{}",
         "name": "city_name",
         "type": "\"string\""
        }
       ],
       "type": "table"
      }
     },
     "output_type": "display_data"
    }
   ],
   "source": [
    "left_semi_df = cities_df.join(\n",
    "    countries_df,\n",
    "    cities_df.country_id == countries_df.country_id,\n",
    "    'left_semi'\n",
    ")\n",
    "\n",
    "left_semi_df.display()"
   ]
  },
  {
   "cell_type": "markdown",
   "metadata": {
    "application/vnd.databricks.v1+cell": {
     "cellMetadata": {},
     "inputWidgets": {},
     "nuid": "f6c7cba0-0140-4f2a-a545-d9bd317016f4",
     "showTitle": false,
     "title": ""
    }
   },
   "source": [
    "###Anti Join"
   ]
  },
  {
   "cell_type": "code",
   "execution_count": 0,
   "metadata": {
    "application/vnd.databricks.v1+cell": {
     "cellMetadata": {
      "byteLimit": 2048000,
      "rowLimit": 10000
     },
     "inputWidgets": {},
     "nuid": "ded0455c-a147-40ac-825e-402aaeedae29",
     "showTitle": false,
     "title": ""
    }
   },
   "outputs": [
    {
     "output_type": "display_data",
     "data": {
      "text/html": [
       "<style scoped>\n",
       "  .table-result-container {\n",
       "    max-height: 300px;\n",
       "    overflow: auto;\n",
       "  }\n",
       "  table, th, td {\n",
       "    border: 1px solid black;\n",
       "    border-collapse: collapse;\n",
       "  }\n",
       "  th, td {\n",
       "    padding: 5px;\n",
       "  }\n",
       "  th {\n",
       "    text-align: left;\n",
       "  }\n",
       "</style><div class='table-result-container'><table class='table-result'><thead style='background-color: white'><tr><th>city_id</th><th>country_id</th><th>city_name</th></tr></thead><tbody><tr><td>12</td><td>10</td><td>Moscow</td></tr><tr><td>98</td><td>12</td><td>Cape Town</td></tr><tr><td>56</td><td>15</td><td>Dublin</td></tr></tbody></table></div>"
      ]
     },
     "metadata": {
      "application/vnd.databricks.v1+output": {
       "addedWidgets": {},
       "aggData": [],
       "aggError": "",
       "aggOverflow": false,
       "aggSchema": [],
       "aggSeriesLimitReached": false,
       "aggType": "",
       "arguments": {},
       "columnCustomDisplayInfos": {},
       "data": [
        [
         12,
         10,
         "Moscow"
        ],
        [
         98,
         12,
         "Cape Town"
        ],
        [
         56,
         15,
         "Dublin"
        ]
       ],
       "datasetInfos": [],
       "dbfsResultPath": null,
       "isJsonSchema": true,
       "metadata": {},
       "overflow": false,
       "plotOptions": {
        "customPlotOptions": {},
        "displayType": "table",
        "pivotAggregation": null,
        "pivotColumns": null,
        "xColumns": null,
        "yColumns": null
       },
       "removedWidgets": [],
       "schema": [
        {
         "metadata": "{}",
         "name": "city_id",
         "type": "\"integer\""
        },
        {
         "metadata": "{}",
         "name": "country_id",
         "type": "\"integer\""
        },
        {
         "metadata": "{}",
         "name": "city_name",
         "type": "\"string\""
        }
       ],
       "type": "table"
      }
     },
     "output_type": "display_data"
    }
   ],
   "source": [
    "anti_df = cities_df.join(\n",
    "    countries_df,\n",
    "    cities_df.country_id == countries_df.country_id,\n",
    "    'anti'\n",
    ")\n",
    "\n",
    "anti_df.display()"
   ]
  },
  {
   "cell_type": "code",
   "execution_count": 0,
   "metadata": {
    "application/vnd.databricks.v1+cell": {
     "cellMetadata": {
      "byteLimit": 2048000,
      "rowLimit": 10000
     },
     "inputWidgets": {},
     "nuid": "877aafd1-060d-43ac-92be-516389a84027",
     "showTitle": false,
     "title": ""
    }
   },
   "outputs": [
    {
     "output_type": "display_data",
     "data": {
      "text/html": [
       "<style scoped>\n",
       "  .table-result-container {\n",
       "    max-height: 300px;\n",
       "    overflow: auto;\n",
       "  }\n",
       "  table, th, td {\n",
       "    border: 1px solid black;\n",
       "    border-collapse: collapse;\n",
       "  }\n",
       "  th, td {\n",
       "    padding: 5px;\n",
       "  }\n",
       "  th {\n",
       "    text-align: left;\n",
       "  }\n",
       "</style><div class='table-result-container'><table class='table-result'><thead style='background-color: white'><tr><th>city_id</th><th>country_id</th><th>city_name</th></tr></thead><tbody><tr><td>12</td><td>10</td><td>Moscow</td></tr><tr><td>98</td><td>12</td><td>Cape Town</td></tr><tr><td>56</td><td>15</td><td>Dublin</td></tr></tbody></table></div>"
      ]
     },
     "metadata": {
      "application/vnd.databricks.v1+output": {
       "addedWidgets": {},
       "aggData": [],
       "aggError": "",
       "aggOverflow": false,
       "aggSchema": [],
       "aggSeriesLimitReached": false,
       "aggType": "",
       "arguments": {},
       "columnCustomDisplayInfos": {},
       "data": [
        [
         12,
         10,
         "Moscow"
        ],
        [
         98,
         12,
         "Cape Town"
        ],
        [
         56,
         15,
         "Dublin"
        ]
       ],
       "datasetInfos": [],
       "dbfsResultPath": null,
       "isJsonSchema": true,
       "metadata": {},
       "overflow": false,
       "plotOptions": {
        "customPlotOptions": {},
        "displayType": "table",
        "pivotAggregation": null,
        "pivotColumns": null,
        "xColumns": null,
        "yColumns": null
       },
       "removedWidgets": [],
       "schema": [
        {
         "metadata": "{}",
         "name": "city_id",
         "type": "\"integer\""
        },
        {
         "metadata": "{}",
         "name": "country_id",
         "type": "\"integer\""
        },
        {
         "metadata": "{}",
         "name": "city_name",
         "type": "\"string\""
        }
       ],
       "type": "table"
      }
     },
     "output_type": "display_data"
    }
   ],
   "source": [
    "left_anti_df = cities_df.join(\n",
    "    countries_df,\n",
    "    cities_df.country_id == countries_df.country_id,\n",
    "    'left_anti'\n",
    ")\n",
    "\n",
    "left_anti_df.display()"
   ]
  }
 ],
 "metadata": {
  "application/vnd.databricks.v1+notebook": {
   "dashboards": [],
   "language": "python",
   "notebookMetadata": {
    "pythonIndentUnit": 4
   },
   "notebookName": "pyspark_joins",
   "widgets": {}
  }
 },
 "nbformat": 4,
 "nbformat_minor": 0
}
